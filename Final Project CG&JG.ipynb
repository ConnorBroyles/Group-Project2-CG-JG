{
 "cells": [
  {
   "cell_type": "code",
   "execution_count": 1,
   "id": "c262ccbf",
   "metadata": {},
   "outputs": [],
   "source": [
    "import numpy as np\n",
    "import pandas as pd\n",
    "import seaborn as sns\n",
    "import matplotlib.pyplot as plt\n",
    "from sklearn.impute import SimpleImputer\n",
    "from sklearn.model_selection import train_test_split\n",
    "from sklearn.tree import DecisionTreeRegressor\n",
    "from sklearn.tree import plot_tree\n",
    "from sklearn.svm import SVR"
   ]
  },
  {
   "cell_type": "code",
   "execution_count": 2,
   "id": "eaed765b",
   "metadata": {},
   "outputs": [],
   "source": [
    "ds=pd.read_csv('LoL Data.csv')"
   ]
  },
  {
   "cell_type": "code",
   "execution_count": 3,
   "id": "977c88ad",
   "metadata": {},
   "outputs": [
    {
     "data": {
      "text/plain": [
       "Team                     0\n",
       "Player                   0\n",
       "Opponent                 0\n",
       "Position                 0\n",
       "Champion                 0\n",
       "Kills                    0\n",
       "Deaths                   0\n",
       "Assists                  0\n",
       "Creep Score              0\n",
       "Gold Earned              0\n",
       "Champion Damage Share    0\n",
       "Kill Participation       0\n",
       "Wards Placed             0\n",
       "Wards Destroyed          0\n",
       "Ward Interactions        0\n",
       "Dragons For              0\n",
       "Dragons Against          0\n",
       "Barons For               0\n",
       "Barons Against           0\n",
       "Result                   0\n",
       "dtype: int64"
      ]
     },
     "execution_count": 3,
     "metadata": {},
     "output_type": "execute_result"
    }
   ],
   "source": [
    "ds.isnull().sum()"
   ]
  },
  {
   "cell_type": "code",
   "execution_count": 4,
   "id": "3f612c12",
   "metadata": {},
   "outputs": [
    {
     "data": {
      "text/plain": [
       "215"
      ]
     },
     "execution_count": 4,
     "metadata": {},
     "output_type": "execute_result"
    }
   ],
   "source": [
    "len(ds)"
   ]
  },
  {
   "cell_type": "code",
   "execution_count": 5,
   "id": "8d616aed",
   "metadata": {},
   "outputs": [
    {
     "data": {
      "text/html": [
       "<div>\n",
       "<style scoped>\n",
       "    .dataframe tbody tr th:only-of-type {\n",
       "        vertical-align: middle;\n",
       "    }\n",
       "\n",
       "    .dataframe tbody tr th {\n",
       "        vertical-align: top;\n",
       "    }\n",
       "\n",
       "    .dataframe thead th {\n",
       "        text-align: right;\n",
       "    }\n",
       "</style>\n",
       "<table border=\"1\" class=\"dataframe\">\n",
       "  <thead>\n",
       "    <tr style=\"text-align: right;\">\n",
       "      <th></th>\n",
       "      <th>Team</th>\n",
       "      <th>Player</th>\n",
       "      <th>Opponent</th>\n",
       "      <th>Position</th>\n",
       "      <th>Champion</th>\n",
       "      <th>Kills</th>\n",
       "      <th>Deaths</th>\n",
       "      <th>Assists</th>\n",
       "      <th>Creep Score</th>\n",
       "      <th>Gold Earned</th>\n",
       "      <th>Champion Damage Share</th>\n",
       "      <th>Kill Participation</th>\n",
       "      <th>Wards Placed</th>\n",
       "      <th>Wards Destroyed</th>\n",
       "      <th>Ward Interactions</th>\n",
       "      <th>Dragons For</th>\n",
       "      <th>Dragons Against</th>\n",
       "      <th>Barons For</th>\n",
       "      <th>Barons Against</th>\n",
       "      <th>Result</th>\n",
       "    </tr>\n",
       "  </thead>\n",
       "  <tbody>\n",
       "    <tr>\n",
       "      <th>0</th>\n",
       "      <td>UOL</td>\n",
       "      <td>Boss</td>\n",
       "      <td>GS</td>\n",
       "      <td>Top</td>\n",
       "      <td>Camille</td>\n",
       "      <td>4</td>\n",
       "      <td>5</td>\n",
       "      <td>3</td>\n",
       "      <td>188</td>\n",
       "      <td>11107</td>\n",
       "      <td>0.17</td>\n",
       "      <td>0.78</td>\n",
       "      <td>8</td>\n",
       "      <td>8</td>\n",
       "      <td>16</td>\n",
       "      <td>0</td>\n",
       "      <td>4</td>\n",
       "      <td>0</td>\n",
       "      <td>1</td>\n",
       "      <td>L</td>\n",
       "    </tr>\n",
       "    <tr>\n",
       "      <th>1</th>\n",
       "      <td>GS</td>\n",
       "      <td>Crazy</td>\n",
       "      <td>UOL</td>\n",
       "      <td>Top</td>\n",
       "      <td>Gwen</td>\n",
       "      <td>3</td>\n",
       "      <td>1</td>\n",
       "      <td>9</td>\n",
       "      <td>217</td>\n",
       "      <td>12201</td>\n",
       "      <td>0.20</td>\n",
       "      <td>0.52</td>\n",
       "      <td>10</td>\n",
       "      <td>7</td>\n",
       "      <td>17</td>\n",
       "      <td>4</td>\n",
       "      <td>0</td>\n",
       "      <td>1</td>\n",
       "      <td>0</td>\n",
       "      <td>W</td>\n",
       "    </tr>\n",
       "    <tr>\n",
       "      <th>2</th>\n",
       "      <td>UOL</td>\n",
       "      <td>Ahahacik</td>\n",
       "      <td>GS</td>\n",
       "      <td>Jungle</td>\n",
       "      <td>Trundle</td>\n",
       "      <td>2</td>\n",
       "      <td>4</td>\n",
       "      <td>5</td>\n",
       "      <td>156</td>\n",
       "      <td>9048</td>\n",
       "      <td>0.15</td>\n",
       "      <td>0.78</td>\n",
       "      <td>8</td>\n",
       "      <td>14</td>\n",
       "      <td>22</td>\n",
       "      <td>0</td>\n",
       "      <td>4</td>\n",
       "      <td>0</td>\n",
       "      <td>1</td>\n",
       "      <td>L</td>\n",
       "    </tr>\n",
       "    <tr>\n",
       "      <th>3</th>\n",
       "      <td>GS</td>\n",
       "      <td>Mojito</td>\n",
       "      <td>UOL</td>\n",
       "      <td>Jungle</td>\n",
       "      <td>Talon</td>\n",
       "      <td>5</td>\n",
       "      <td>4</td>\n",
       "      <td>10</td>\n",
       "      <td>194</td>\n",
       "      <td>11234</td>\n",
       "      <td>0.23</td>\n",
       "      <td>0.65</td>\n",
       "      <td>12</td>\n",
       "      <td>8</td>\n",
       "      <td>20</td>\n",
       "      <td>4</td>\n",
       "      <td>0</td>\n",
       "      <td>1</td>\n",
       "      <td>0</td>\n",
       "      <td>W</td>\n",
       "    </tr>\n",
       "    <tr>\n",
       "      <th>4</th>\n",
       "      <td>UOL</td>\n",
       "      <td>Nomanz</td>\n",
       "      <td>GS</td>\n",
       "      <td>Mid</td>\n",
       "      <td>Leblanc</td>\n",
       "      <td>1</td>\n",
       "      <td>3</td>\n",
       "      <td>4</td>\n",
       "      <td>216</td>\n",
       "      <td>9245</td>\n",
       "      <td>0.29</td>\n",
       "      <td>0.56</td>\n",
       "      <td>6</td>\n",
       "      <td>9</td>\n",
       "      <td>15</td>\n",
       "      <td>0</td>\n",
       "      <td>4</td>\n",
       "      <td>0</td>\n",
       "      <td>1</td>\n",
       "      <td>L</td>\n",
       "    </tr>\n",
       "  </tbody>\n",
       "</table>\n",
       "</div>"
      ],
      "text/plain": [
       "  Team    Player Opponent Position Champion  Kills  Deaths  Assists  \\\n",
       "0  UOL      Boss       GS      Top  Camille      4       5        3   \n",
       "1   GS     Crazy      UOL      Top     Gwen      3       1        9   \n",
       "2  UOL  Ahahacik       GS   Jungle  Trundle      2       4        5   \n",
       "3   GS    Mojito      UOL   Jungle    Talon      5       4       10   \n",
       "4  UOL    Nomanz       GS      Mid  Leblanc      1       3        4   \n",
       "\n",
       "   Creep Score  Gold Earned  Champion Damage Share  Kill Participation  \\\n",
       "0          188        11107                   0.17                0.78   \n",
       "1          217        12201                   0.20                0.52   \n",
       "2          156         9048                   0.15                0.78   \n",
       "3          194        11234                   0.23                0.65   \n",
       "4          216         9245                   0.29                0.56   \n",
       "\n",
       "   Wards Placed  Wards Destroyed  Ward Interactions  Dragons For  \\\n",
       "0             8                8                 16            0   \n",
       "1            10                7                 17            4   \n",
       "2             8               14                 22            0   \n",
       "3            12                8                 20            4   \n",
       "4             6                9                 15            0   \n",
       "\n",
       "   Dragons Against  Barons For  Barons Against Result  \n",
       "0                4           0               1      L  \n",
       "1                0           1               0      W  \n",
       "2                4           0               1      L  \n",
       "3                0           1               0      W  \n",
       "4                4           0               1      L  "
      ]
     },
     "execution_count": 5,
     "metadata": {},
     "output_type": "execute_result"
    }
   ],
   "source": [
    "ds.head()"
   ]
  },
  {
   "cell_type": "code",
   "execution_count": 6,
   "id": "a90a0da7",
   "metadata": {},
   "outputs": [
    {
     "name": "stdout",
     "output_type": "stream",
     "text": [
      "<class 'pandas.core.frame.DataFrame'>\n",
      "RangeIndex: 215 entries, 0 to 214\n",
      "Data columns (total 20 columns):\n",
      " #   Column                 Non-Null Count  Dtype  \n",
      "---  ------                 --------------  -----  \n",
      " 0   Team                   215 non-null    object \n",
      " 1   Player                 215 non-null    object \n",
      " 2   Opponent               215 non-null    object \n",
      " 3   Position               215 non-null    object \n",
      " 4   Champion               215 non-null    object \n",
      " 5   Kills                  215 non-null    int64  \n",
      " 6   Deaths                 215 non-null    int64  \n",
      " 7   Assists                215 non-null    int64  \n",
      " 8   Creep Score            215 non-null    int64  \n",
      " 9   Gold Earned            215 non-null    int64  \n",
      " 10  Champion Damage Share  215 non-null    float64\n",
      " 11  Kill Participation     215 non-null    float64\n",
      " 12  Wards Placed           215 non-null    int64  \n",
      " 13  Wards Destroyed        215 non-null    int64  \n",
      " 14  Ward Interactions      215 non-null    int64  \n",
      " 15  Dragons For            215 non-null    int64  \n",
      " 16  Dragons Against        215 non-null    int64  \n",
      " 17  Barons For             215 non-null    int64  \n",
      " 18  Barons Against         215 non-null    int64  \n",
      " 19  Result                 215 non-null    object \n",
      "dtypes: float64(2), int64(12), object(6)\n",
      "memory usage: 33.7+ KB\n"
     ]
    }
   ],
   "source": [
    "ds.info()"
   ]
  },
  {
   "cell_type": "code",
   "execution_count": 7,
   "id": "e5af2073",
   "metadata": {},
   "outputs": [],
   "source": [
    "X=ds[['Deaths','Assists','Creep Score','Gold Earned','Champion Damage Share',\n",
    "      'Kill Participation','Wards Placed','Wards Destroyed',\n",
    "      'Dragons For','Barons For',]]"
   ]
  },
  {
   "cell_type": "code",
   "execution_count": null,
   "id": "10369270",
   "metadata": {},
   "outputs": [],
   "source": []
  },
  {
   "cell_type": "code",
   "execution_count": 8,
   "id": "0b0c75b2",
   "metadata": {},
   "outputs": [],
   "source": [
    "y=ds[['Kills']]"
   ]
  },
  {
   "cell_type": "code",
   "execution_count": 9,
   "id": "cc7409e1",
   "metadata": {},
   "outputs": [
    {
     "data": {
      "text/html": [
       "<div>\n",
       "<style scoped>\n",
       "    .dataframe tbody tr th:only-of-type {\n",
       "        vertical-align: middle;\n",
       "    }\n",
       "\n",
       "    .dataframe tbody tr th {\n",
       "        vertical-align: top;\n",
       "    }\n",
       "\n",
       "    .dataframe thead th {\n",
       "        text-align: right;\n",
       "    }\n",
       "</style>\n",
       "<table border=\"1\" class=\"dataframe\">\n",
       "  <thead>\n",
       "    <tr style=\"text-align: right;\">\n",
       "      <th></th>\n",
       "      <th>Kills</th>\n",
       "    </tr>\n",
       "  </thead>\n",
       "  <tbody>\n",
       "    <tr>\n",
       "      <th>0</th>\n",
       "      <td>4</td>\n",
       "    </tr>\n",
       "    <tr>\n",
       "      <th>1</th>\n",
       "      <td>3</td>\n",
       "    </tr>\n",
       "    <tr>\n",
       "      <th>2</th>\n",
       "      <td>2</td>\n",
       "    </tr>\n",
       "    <tr>\n",
       "      <th>3</th>\n",
       "      <td>5</td>\n",
       "    </tr>\n",
       "    <tr>\n",
       "      <th>4</th>\n",
       "      <td>1</td>\n",
       "    </tr>\n",
       "  </tbody>\n",
       "</table>\n",
       "</div>"
      ],
      "text/plain": [
       "   Kills\n",
       "0      4\n",
       "1      3\n",
       "2      2\n",
       "3      5\n",
       "4      1"
      ]
     },
     "execution_count": 9,
     "metadata": {},
     "output_type": "execute_result"
    }
   ],
   "source": [
    "y.head()"
   ]
  },
  {
   "cell_type": "code",
   "execution_count": 10,
   "id": "01a8452f",
   "metadata": {},
   "outputs": [],
   "source": [
    "X_train,X_test,y_train,y_test=train_test_split(X,y,test_size=.8,random_state=12)"
   ]
  },
  {
   "cell_type": "code",
   "execution_count": 11,
   "id": "0bde22c6",
   "metadata": {},
   "outputs": [],
   "source": [
    "from sklearn.linear_model import LinearRegression"
   ]
  },
  {
   "cell_type": "code",
   "execution_count": 12,
   "id": "98261eb1",
   "metadata": {},
   "outputs": [
    {
     "data": {
      "text/plain": [
       "LinearRegression()"
      ]
     },
     "execution_count": 12,
     "metadata": {},
     "output_type": "execute_result"
    }
   ],
   "source": [
    "regressor=LinearRegression()\n",
    "regressor.fit(X_train,y_train)"
   ]
  },
  {
   "cell_type": "code",
   "execution_count": 13,
   "id": "753597ff",
   "metadata": {},
   "outputs": [
    {
     "name": "stdout",
     "output_type": "stream",
     "text": [
      "Coefficioents [[-1.55593711e-01 -4.16883127e-02 -4.67910367e-02  1.58055969e-03\n",
      "   7.22792022e+00  2.43820814e-01 -7.68587151e-02  2.91300589e-03\n",
      "  -8.25796073e-02 -8.08302149e-01]]\n"
     ]
    }
   ],
   "source": [
    "print('Coefficioents',regressor.coef_)"
   ]
  },
  {
   "cell_type": "code",
   "execution_count": 14,
   "id": "b8951ea7",
   "metadata": {},
   "outputs": [
    {
     "name": "stdout",
     "output_type": "stream",
     "text": [
      "Intercept [-4.00224367]\n"
     ]
    }
   ],
   "source": [
    "print('Intercept',regressor.intercept_)"
   ]
  },
  {
   "cell_type": "code",
   "execution_count": 15,
   "id": "4d2e018c",
   "metadata": {},
   "outputs": [
    {
     "data": {
      "text/html": [
       "<div>\n",
       "<style scoped>\n",
       "    .dataframe tbody tr th:only-of-type {\n",
       "        vertical-align: middle;\n",
       "    }\n",
       "\n",
       "    .dataframe tbody tr th {\n",
       "        vertical-align: top;\n",
       "    }\n",
       "\n",
       "    .dataframe thead th {\n",
       "        text-align: right;\n",
       "    }\n",
       "</style>\n",
       "<table border=\"1\" class=\"dataframe\">\n",
       "  <thead>\n",
       "    <tr style=\"text-align: right;\">\n",
       "      <th></th>\n",
       "      <th>Deaths</th>\n",
       "      <th>Assists</th>\n",
       "      <th>Creep Score</th>\n",
       "      <th>Gold Earned</th>\n",
       "      <th>Champion Damage Share</th>\n",
       "      <th>Kill Participation</th>\n",
       "      <th>Wards Placed</th>\n",
       "      <th>Wards Destroyed</th>\n",
       "      <th>Dragons For</th>\n",
       "      <th>Barons For</th>\n",
       "    </tr>\n",
       "  </thead>\n",
       "  <tbody>\n",
       "    <tr>\n",
       "      <th>0</th>\n",
       "      <td>5</td>\n",
       "      <td>3</td>\n",
       "      <td>188</td>\n",
       "      <td>11107</td>\n",
       "      <td>0.17</td>\n",
       "      <td>0.78</td>\n",
       "      <td>8</td>\n",
       "      <td>8</td>\n",
       "      <td>0</td>\n",
       "      <td>0</td>\n",
       "    </tr>\n",
       "    <tr>\n",
       "      <th>1</th>\n",
       "      <td>1</td>\n",
       "      <td>9</td>\n",
       "      <td>217</td>\n",
       "      <td>12201</td>\n",
       "      <td>0.20</td>\n",
       "      <td>0.52</td>\n",
       "      <td>10</td>\n",
       "      <td>7</td>\n",
       "      <td>4</td>\n",
       "      <td>1</td>\n",
       "    </tr>\n",
       "    <tr>\n",
       "      <th>2</th>\n",
       "      <td>4</td>\n",
       "      <td>5</td>\n",
       "      <td>156</td>\n",
       "      <td>9048</td>\n",
       "      <td>0.15</td>\n",
       "      <td>0.78</td>\n",
       "      <td>8</td>\n",
       "      <td>14</td>\n",
       "      <td>0</td>\n",
       "      <td>0</td>\n",
       "    </tr>\n",
       "    <tr>\n",
       "      <th>3</th>\n",
       "      <td>4</td>\n",
       "      <td>10</td>\n",
       "      <td>194</td>\n",
       "      <td>11234</td>\n",
       "      <td>0.23</td>\n",
       "      <td>0.65</td>\n",
       "      <td>12</td>\n",
       "      <td>8</td>\n",
       "      <td>4</td>\n",
       "      <td>1</td>\n",
       "    </tr>\n",
       "    <tr>\n",
       "      <th>4</th>\n",
       "      <td>3</td>\n",
       "      <td>4</td>\n",
       "      <td>216</td>\n",
       "      <td>9245</td>\n",
       "      <td>0.29</td>\n",
       "      <td>0.56</td>\n",
       "      <td>6</td>\n",
       "      <td>9</td>\n",
       "      <td>0</td>\n",
       "      <td>0</td>\n",
       "    </tr>\n",
       "  </tbody>\n",
       "</table>\n",
       "</div>"
      ],
      "text/plain": [
       "   Deaths  Assists  Creep Score  Gold Earned  Champion Damage Share  \\\n",
       "0       5        3          188        11107                   0.17   \n",
       "1       1        9          217        12201                   0.20   \n",
       "2       4        5          156         9048                   0.15   \n",
       "3       4       10          194        11234                   0.23   \n",
       "4       3        4          216         9245                   0.29   \n",
       "\n",
       "   Kill Participation  Wards Placed  Wards Destroyed  Dragons For  Barons For  \n",
       "0                0.78             8                8            0           0  \n",
       "1                0.52            10                7            4           1  \n",
       "2                0.78             8               14            0           0  \n",
       "3                0.65            12                8            4           1  \n",
       "4                0.56             6                9            0           0  "
      ]
     },
     "execution_count": 15,
     "metadata": {},
     "output_type": "execute_result"
    }
   ],
   "source": [
    "X.head()"
   ]
  },
  {
   "cell_type": "markdown",
   "id": "b4cd6691",
   "metadata": {},
   "source": [
    "# SVR"
   ]
  },
  {
   "cell_type": "code",
   "execution_count": 16,
   "id": "91d4afc1",
   "metadata": {},
   "outputs": [
    {
     "name": "stderr",
     "output_type": "stream",
     "text": [
      "C:\\Users\\Connor\\anaconda3\\lib\\site-packages\\sklearn\\utils\\validation.py:63: DataConversionWarning: A column-vector y was passed when a 1d array was expected. Please change the shape of y to (n_samples, ), for example using ravel().\n",
      "  return f(*args, **kwargs)\n"
     ]
    },
    {
     "data": {
      "text/plain": [
       "SVR()"
      ]
     },
     "execution_count": 16,
     "metadata": {},
     "output_type": "execute_result"
    }
   ],
   "source": [
    "from sklearn.svm import SVR\n",
    "regressor=SVR(kernel='rbf')\n",
    "regressor.fit(X,y)"
   ]
  },
  {
   "cell_type": "code",
   "execution_count": 17,
   "id": "17e8efaf",
   "metadata": {},
   "outputs": [],
   "source": [
    "from sklearn.preprocessing import StandardScaler\n",
    "sc_X=StandardScaler()\n",
    "sc_y=StandardScaler()\n",
    "X_train=sc_X.fit_transform(X_train)\n",
    "y_train=sc_y.fit_transform(y_train)"
   ]
  },
  {
   "cell_type": "markdown",
   "id": "4d2e823d",
   "metadata": {},
   "source": [
    "# Training SVR"
   ]
  },
  {
   "cell_type": "code",
   "execution_count": 18,
   "id": "b0ff9d79",
   "metadata": {},
   "outputs": [
    {
     "name": "stderr",
     "output_type": "stream",
     "text": [
      "C:\\Users\\Connor\\anaconda3\\lib\\site-packages\\sklearn\\utils\\validation.py:63: DataConversionWarning: A column-vector y was passed when a 1d array was expected. Please change the shape of y to (n_samples, ), for example using ravel().\n",
      "  return f(*args, **kwargs)\n"
     ]
    },
    {
     "data": {
      "text/plain": [
       "SVR()"
      ]
     },
     "execution_count": 18,
     "metadata": {},
     "output_type": "execute_result"
    }
   ],
   "source": [
    "from sklearn.svm import SVR\n",
    "regressor=SVR(kernel='rbf')\n",
    "regressor.fit(X_train,y_train)"
   ]
  },
  {
   "cell_type": "code",
   "execution_count": 19,
   "id": "9d2a522a",
   "metadata": {},
   "outputs": [],
   "source": [
    "# Predicting\n",
    "y_pred=sc_y.inverse_transform(regressor.predict(sc_X.transform(X_test)).reshape(-1,1))"
   ]
  },
  {
   "attachments": {
    "image-2.png": {
     "image/png": "[encoded data removed]"
    }
   },
   "cell_type": "markdown",
   "id": "a1f303e8",
   "metadata": {},
   "source": [
    "![image-2.png](attachment:image-2.png)"
   ]
  },
  {
   "cell_type": "code",
   "execution_count": 20,
   "id": "e74a05a9",
   "metadata": {},
   "outputs": [],
   "source": [
    "#Did not include Ward Int, Dragons Against, and Barons Against"
   ]
  },
  {
   "cell_type": "code",
   "execution_count": 21,
   "id": "b8e3d633",
   "metadata": {},
   "outputs": [
    {
     "data": {
      "text/plain": [
       "array([[0.90421902]])"
      ]
     },
     "execution_count": 21,
     "metadata": {},
     "output_type": "execute_result"
    }
   ],
   "source": [
    "sc_y.inverse_transform(regressor.predict(sc_X.transform([[4,3,184,11442,.13,.43,19,11,1,1]])).reshape(-1,1))"
   ]
  },
  {
   "cell_type": "code",
   "execution_count": 22,
   "id": "a57ca19e",
   "metadata": {},
   "outputs": [
    {
     "data": {
      "text/plain": [
       "array([[3.93938801]])"
      ]
     },
     "execution_count": 22,
     "metadata": {},
     "output_type": "execute_result"
    }
   ],
   "source": [
    "sc_y.inverse_transform(regressor.predict(sc_X.transform([[3,10,177,11761,.16,.58,7,7,4,1]])).reshape(-1,1))"
   ]
  },
  {
   "cell_type": "code",
   "execution_count": 23,
   "id": "4e21f2fc",
   "metadata": {},
   "outputs": [
    {
     "data": {
      "text/plain": [
       "array([[5.11520941]])"
      ]
     },
     "execution_count": 23,
     "metadata": {},
     "output_type": "execute_result"
    }
   ],
   "source": [
    "sc_y.inverse_transform(regressor.predict(sc_X.transform([[2,4,367,16052,.3,.64,11,13,1,1]])).reshape(-1,1))"
   ]
  },
  {
   "cell_type": "code",
   "execution_count": 24,
   "id": "850c2348",
   "metadata": {},
   "outputs": [
    {
     "data": {
      "text/plain": [
       "array([[2.71597959]])"
      ]
     },
     "execution_count": 24,
     "metadata": {},
     "output_type": "execute_result"
    }
   ],
   "source": [
    "sc_y.inverse_transform(regressor.predict(sc_X.transform([[4,2,356,15558,.23,.32,24,6,4,1]])).reshape(-1,1))"
   ]
  },
  {
   "cell_type": "markdown",
   "id": "d9a9f38a",
   "metadata": {},
   "source": [
    "# ModelPerformance"
   ]
  },
  {
   "cell_type": "code",
   "execution_count": 25,
   "id": "e065ed90",
   "metadata": {},
   "outputs": [
    {
     "name": "stdout",
     "output_type": "stream",
     "text": [
      "R-Square 0.6019114052960055\n"
     ]
    }
   ],
   "source": [
    "from sklearn.metrics import r2_score\n",
    "print('R-Square',r2_score(y_test,y_pred))"
   ]
  },
  {
   "cell_type": "code",
   "execution_count": 26,
   "id": "c9797aac",
   "metadata": {},
   "outputs": [
    {
     "name": "stdout",
     "output_type": "stream",
     "text": [
      "The Mean Square error is 1.509666251471904\n"
     ]
    }
   ],
   "source": [
    "from sklearn.metrics import mean_squared_error as msc\n",
    "from math import sqrt\n",
    "rms=sqrt(msc(y_test,y_pred))\n",
    "print('The Mean Square error is', rms)"
   ]
  },
  {
   "cell_type": "markdown",
   "id": "67fb10a9",
   "metadata": {},
   "source": [
    "# DTR"
   ]
  },
  {
   "cell_type": "code",
   "execution_count": 27,
   "id": "ec52b342",
   "metadata": {},
   "outputs": [],
   "source": [
    "y_pred=regressor.predict(X_test)"
   ]
  },
  {
   "cell_type": "code",
   "execution_count": 28,
   "id": "b3044a6c",
   "metadata": {},
   "outputs": [
    {
     "data": {
      "text/plain": [
       "LinearRegression()"
      ]
     },
     "execution_count": 28,
     "metadata": {},
     "output_type": "execute_result"
    }
   ],
   "source": [
    "X_train, X_test, y_train, y_test = train_test_split(X, y, test_size = 0.8, random_state = 0)\n",
    "regressor = LinearRegression()\n",
    "regressor.fit(X,y)"
   ]
  },
  {
   "cell_type": "code",
   "execution_count": 29,
   "id": "7911d043",
   "metadata": {},
   "outputs": [
    {
     "data": {
      "text/plain": [
       "DecisionTreeRegressor(random_state=0)"
      ]
     },
     "execution_count": 29,
     "metadata": {},
     "output_type": "execute_result"
    }
   ],
   "source": [
    "regressor=DecisionTreeRegressor(random_state=0)\n",
    "regressor.fit(X_train,y_train)"
   ]
  },
  {
   "cell_type": "code",
   "execution_count": 30,
   "id": "6567a320",
   "metadata": {},
   "outputs": [],
   "source": [
    "y_pred=regressor.predict(X_test)"
   ]
  },
  {
   "cell_type": "markdown",
   "id": "6c341bd1",
   "metadata": {},
   "source": [
    "## Predicting Using DTR"
   ]
  },
  {
   "cell_type": "code",
   "execution_count": 31,
   "id": "26dfc511",
   "metadata": {},
   "outputs": [
    {
     "data": {
      "text/plain": [
       "array([0.])"
      ]
     },
     "execution_count": 31,
     "metadata": {},
     "output_type": "execute_result"
    }
   ],
   "source": [
    "regressor.predict([[4,3,184,11442,.13,.43,19,11,1,1]])"
   ]
  },
  {
   "cell_type": "code",
   "execution_count": 32,
   "id": "0685d023",
   "metadata": {},
   "outputs": [
    {
     "data": {
      "text/plain": [
       "array([1.])"
      ]
     },
     "execution_count": 32,
     "metadata": {},
     "output_type": "execute_result"
    }
   ],
   "source": [
    "regressor.predict([[3,10,177,11761,.16,.58,7,7,4,1]])"
   ]
  },
  {
   "cell_type": "code",
   "execution_count": 33,
   "id": "07c18ad0",
   "metadata": {},
   "outputs": [
    {
     "data": {
      "text/plain": [
       "array([6.])"
      ]
     },
     "execution_count": 33,
     "metadata": {},
     "output_type": "execute_result"
    }
   ],
   "source": [
    "regressor.predict([[2,4,367,16052,.3,.64,11,13,1,1]])"
   ]
  },
  {
   "cell_type": "code",
   "execution_count": 34,
   "id": "11c9ac96",
   "metadata": {},
   "outputs": [
    {
     "data": {
      "text/plain": [
       "array([3.])"
      ]
     },
     "execution_count": 34,
     "metadata": {},
     "output_type": "execute_result"
    }
   ],
   "source": [
    "regressor.predict([[4,2,356,15558,.23,.32,24,6,4,1]])"
   ]
  },
  {
   "cell_type": "markdown",
   "id": "885df284",
   "metadata": {},
   "source": [
    "## Model Performance"
   ]
  },
  {
   "cell_type": "code",
   "execution_count": 35,
   "id": "84bdfebb",
   "metadata": {},
   "outputs": [
    {
     "name": "stdout",
     "output_type": "stream",
     "text": [
      "R-Square -0.1969673592083212\n"
     ]
    }
   ],
   "source": [
    "print('R-Square',r2_score(y_test,y_pred))"
   ]
  },
  {
   "cell_type": "code",
   "execution_count": 36,
   "id": "5409407a",
   "metadata": {},
   "outputs": [
    {
     "name": "stdout",
     "output_type": "stream",
     "text": [
      "The Mean Square error is 2.757653198426281\n"
     ]
    }
   ],
   "source": [
    "from sklearn.metrics import mean_squared_error as msc\n",
    "from math import sqrt\n",
    "rms=sqrt(msc(y_test,y_pred))\n",
    "print('The Mean Square error is', rms)"
   ]
  },
  {
   "cell_type": "markdown",
   "id": "e976cd04",
   "metadata": {},
   "source": [
    "# RFT"
   ]
  },
  {
   "cell_type": "code",
   "execution_count": 37,
   "id": "17ced840",
   "metadata": {},
   "outputs": [
    {
     "data": {
      "text/plain": [
       "LinearRegression()"
      ]
     },
     "execution_count": 37,
     "metadata": {},
     "output_type": "execute_result"
    }
   ],
   "source": [
    "X_train, X_test, y_train, y_test = train_test_split(X, y, test_size = 0.8, random_state = 0)\n",
    "regressor = LinearRegression()\n",
    "regressor.fit(X,y)"
   ]
  },
  {
   "cell_type": "code",
   "execution_count": 38,
   "id": "02b75e0f",
   "metadata": {},
   "outputs": [
    {
     "name": "stderr",
     "output_type": "stream",
     "text": [
      "<ipython-input-38-40255d4da7b6>:3: DataConversionWarning: A column-vector y was passed when a 1d array was expected. Please change the shape of y to (n_samples,), for example using ravel().\n",
      "  regressor.fit(X,y)\n"
     ]
    },
    {
     "data": {
      "text/plain": [
       "RandomForestRegressor(n_estimators=20, random_state=0)"
      ]
     },
     "execution_count": 38,
     "metadata": {},
     "output_type": "execute_result"
    }
   ],
   "source": [
    "from sklearn.ensemble import RandomForestRegressor\n",
    "regressor=RandomForestRegressor(n_estimators=20,random_state=0)\n",
    "regressor.fit(X,y)"
   ]
  },
  {
   "cell_type": "code",
   "execution_count": 39,
   "id": "bde17575",
   "metadata": {},
   "outputs": [],
   "source": [
    "y_pred=regressor.predict(X_test)"
   ]
  },
  {
   "cell_type": "markdown",
   "id": "8d2c4050",
   "metadata": {},
   "source": [
    "# Predict using RFT"
   ]
  },
  {
   "cell_type": "code",
   "execution_count": 40,
   "id": "4d735765",
   "metadata": {},
   "outputs": [
    {
     "data": {
      "text/plain": [
       "array([1.65])"
      ]
     },
     "execution_count": 40,
     "metadata": {},
     "output_type": "execute_result"
    }
   ],
   "source": [
    "regressor.predict([[4,3,184,11442,.13,.43,19,11,1,1]])"
   ]
  },
  {
   "cell_type": "code",
   "execution_count": 41,
   "id": "62d87063",
   "metadata": {},
   "outputs": [
    {
     "data": {
      "text/plain": [
       "array([3.55])"
      ]
     },
     "execution_count": 41,
     "metadata": {},
     "output_type": "execute_result"
    }
   ],
   "source": [
    "regressor.predict([[3,10,177,11761,.16,.58,7,7,4,1]])"
   ]
  },
  {
   "cell_type": "code",
   "execution_count": 42,
   "id": "5262c4f6",
   "metadata": {},
   "outputs": [
    {
     "data": {
      "text/plain": [
       "array([5.65])"
      ]
     },
     "execution_count": 42,
     "metadata": {},
     "output_type": "execute_result"
    }
   ],
   "source": [
    "regressor.predict([[2,4,367,16052,.3,.64,11,13,1,1]])"
   ]
  },
  {
   "cell_type": "code",
   "execution_count": 43,
   "id": "1e291684",
   "metadata": {},
   "outputs": [
    {
     "data": {
      "text/plain": [
       "array([4.5])"
      ]
     },
     "execution_count": 43,
     "metadata": {},
     "output_type": "execute_result"
    }
   ],
   "source": [
    "regressor.predict([[4,2,356,15558,.23,.32,24,6,4,1]])"
   ]
  },
  {
   "cell_type": "markdown",
   "id": "cb5a9c77",
   "metadata": {},
   "source": [
    "# Model Preformance"
   ]
  },
  {
   "cell_type": "code",
   "execution_count": 44,
   "id": "420d51bd",
   "metadata": {},
   "outputs": [
    {
     "name": "stdout",
     "output_type": "stream",
     "text": [
      "R-Square 0.9318035167992339\n"
     ]
    }
   ],
   "source": [
    "print('R-Square',r2_score(y_test,y_pred))"
   ]
  },
  {
   "cell_type": "code",
   "execution_count": 45,
   "id": "f8798d82",
   "metadata": {},
   "outputs": [
    {
     "name": "stdout",
     "output_type": "stream",
     "text": [
      "The Mean Square error is 0.6582327467068234\n"
     ]
    }
   ],
   "source": [
    "rms=sqrt(msc(y_test,y_pred))\n",
    "print('The Mean Square error is', rms)"
   ]
  },
  {
   "cell_type": "markdown",
   "id": "bbe2ef61",
   "metadata": {},
   "source": [
    "# Linear Regression"
   ]
  },
  {
   "cell_type": "code",
   "execution_count": 46,
   "id": "7c311ebe",
   "metadata": {},
   "outputs": [
    {
     "data": {
      "text/plain": [
       "LinearRegression()"
      ]
     },
     "execution_count": 46,
     "metadata": {},
     "output_type": "execute_result"
    }
   ],
   "source": [
    "regressor = LinearRegression()\n",
    "regressor.fit(X,y)"
   ]
  },
  {
   "cell_type": "code",
   "execution_count": 47,
   "id": "0ddb39c3",
   "metadata": {},
   "outputs": [],
   "source": [
    "y_pred=regressor.predict(X_test)"
   ]
  },
  {
   "cell_type": "markdown",
   "id": "5b732bc5",
   "metadata": {},
   "source": [
    "# Predict Using LR"
   ]
  },
  {
   "cell_type": "code",
   "execution_count": 48,
   "id": "19452f1d",
   "metadata": {},
   "outputs": [
    {
     "data": {
      "text/plain": [
       "array([[3.34131892]])"
      ]
     },
     "execution_count": 48,
     "metadata": {},
     "output_type": "execute_result"
    }
   ],
   "source": [
    "regressor.predict([[4,3,184,11442,.13,.43,19,11,1,1]])"
   ]
  },
  {
   "cell_type": "code",
   "execution_count": 49,
   "id": "c06f73be",
   "metadata": {},
   "outputs": [
    {
     "data": {
      "text/plain": [
       "array([[4.65506916]])"
      ]
     },
     "execution_count": 49,
     "metadata": {},
     "output_type": "execute_result"
    }
   ],
   "source": [
    "regressor.predict([[3,10,177,11761,.16,.58,7,7,4,1]])"
   ]
  },
  {
   "cell_type": "code",
   "execution_count": 50,
   "id": "6bc0d08f",
   "metadata": {},
   "outputs": [
    {
     "data": {
      "text/plain": [
       "array([[4.46400728]])"
      ]
     },
     "execution_count": 50,
     "metadata": {},
     "output_type": "execute_result"
    }
   ],
   "source": [
    "regressor.predict([[2,4,367,16052,.3,.64,11,13,1,1]])"
   ]
  },
  {
   "cell_type": "code",
   "execution_count": 51,
   "id": "8a9d0ed3",
   "metadata": {},
   "outputs": [
    {
     "data": {
      "text/plain": [
       "array([[2.8872699]])"
      ]
     },
     "execution_count": 51,
     "metadata": {},
     "output_type": "execute_result"
    }
   ],
   "source": [
    "regressor.predict([[4,2,356,15558,.23,.32,24,6,4,1]])"
   ]
  },
  {
   "cell_type": "markdown",
   "id": "c62d1dd3",
   "metadata": {},
   "source": [
    "# Model Preformance"
   ]
  },
  {
   "cell_type": "code",
   "execution_count": 52,
   "id": "44efcf65",
   "metadata": {},
   "outputs": [
    {
     "name": "stdout",
     "output_type": "stream",
     "text": [
      "R-Square 0.7748989374579198\n"
     ]
    }
   ],
   "source": [
    "print('R-Square',r2_score(y_test,y_pred))"
   ]
  },
  {
   "cell_type": "code",
   "execution_count": 53,
   "id": "5ea44e1e",
   "metadata": {},
   "outputs": [
    {
     "name": "stdout",
     "output_type": "stream",
     "text": [
      "The Mean Square error is 1.1958790761647133\n"
     ]
    }
   ],
   "source": [
    "rms=sqrt(msc(y_test,y_pred))\n",
    "print('The Mean Square error is', rms)"
   ]
  },
  {
   "cell_type": "markdown",
   "id": "defd17c2",
   "metadata": {},
   "source": [
    "# Experiment Parameters"
   ]
  },
  {
   "cell_type": "markdown",
   "id": "528d9a53",
   "metadata": {},
   "source": [
    "### LR"
   ]
  },
  {
   "cell_type": "markdown",
   "id": "e8b3a057",
   "metadata": {},
   "source": [
    "##### 80 20"
   ]
  },
  {
   "cell_type": "code",
   "execution_count": 54,
   "id": "40c045e3",
   "metadata": {},
   "outputs": [],
   "source": [
    "X_train,X_test,y_train,y_test=train_test_split(X,y,test_size=.8,random_state=20)"
   ]
  },
  {
   "cell_type": "code",
   "execution_count": 55,
   "id": "5386492f",
   "metadata": {},
   "outputs": [
    {
     "data": {
      "text/plain": [
       "LinearRegression()"
      ]
     },
     "execution_count": 55,
     "metadata": {},
     "output_type": "execute_result"
    }
   ],
   "source": [
    "regressor=LinearRegression()\n",
    "regressor.fit(X_train,y_train)"
   ]
  },
  {
   "cell_type": "code",
   "execution_count": 56,
   "id": "ff16b803",
   "metadata": {},
   "outputs": [
    {
     "data": {
      "text/plain": [
       "array([[3.22743202]])"
      ]
     },
     "execution_count": 56,
     "metadata": {},
     "output_type": "execute_result"
    }
   ],
   "source": [
    "regressor.predict([[4,3,184,11442,.13,.43,19,11,1,1]])"
   ]
  },
  {
   "cell_type": "code",
   "execution_count": 57,
   "id": "242db2f1",
   "metadata": {},
   "outputs": [
    {
     "data": {
      "text/plain": [
       "array([[4.6007066]])"
      ]
     },
     "execution_count": 57,
     "metadata": {},
     "output_type": "execute_result"
    }
   ],
   "source": [
    "regressor.predict([[3,10,177,11761,.16,.58,7,7,4,1]])"
   ]
  },
  {
   "cell_type": "code",
   "execution_count": 58,
   "id": "e0994c48",
   "metadata": {},
   "outputs": [
    {
     "data": {
      "text/plain": [
       "array([[4.73374493]])"
      ]
     },
     "execution_count": 58,
     "metadata": {},
     "output_type": "execute_result"
    }
   ],
   "source": [
    "regressor.predict([[2,4,367,16052,.3,.64,11,13,1,1]])"
   ]
  },
  {
   "cell_type": "code",
   "execution_count": 59,
   "id": "1d1a83d9",
   "metadata": {},
   "outputs": [
    {
     "data": {
      "text/plain": [
       "array([[4.10366128]])"
      ]
     },
     "execution_count": 59,
     "metadata": {},
     "output_type": "execute_result"
    }
   ],
   "source": [
    "regressor.predict([[4,2,356,15558,.23,.32,24,6,4,1]])"
   ]
  },
  {
   "cell_type": "markdown",
   "id": "fb17019c",
   "metadata": {},
   "source": [
    "##### 70 30"
   ]
  },
  {
   "cell_type": "code",
   "execution_count": 60,
   "id": "05fe2cac",
   "metadata": {},
   "outputs": [],
   "source": [
    "X_train,X_test,y_train,y_test=train_test_split(X,y,test_size=.70,random_state=15)"
   ]
  },
  {
   "cell_type": "code",
   "execution_count": 61,
   "id": "6f68b0a3",
   "metadata": {},
   "outputs": [
    {
     "data": {
      "text/plain": [
       "LinearRegression()"
      ]
     },
     "execution_count": 61,
     "metadata": {},
     "output_type": "execute_result"
    }
   ],
   "source": [
    "regressor=LinearRegression()\n",
    "regressor.fit(X_train,y_train)"
   ]
  },
  {
   "cell_type": "code",
   "execution_count": 62,
   "id": "46551ee9",
   "metadata": {},
   "outputs": [
    {
     "data": {
      "text/plain": [
       "array([[4.10405534]])"
      ]
     },
     "execution_count": 62,
     "metadata": {},
     "output_type": "execute_result"
    }
   ],
   "source": [
    "regressor.predict([[4,3,184,11442,.13,.43,19,11,1,1]])"
   ]
  },
  {
   "cell_type": "code",
   "execution_count": 63,
   "id": "8b89c338",
   "metadata": {},
   "outputs": [
    {
     "data": {
      "text/plain": [
       "array([[4.58880253]])"
      ]
     },
     "execution_count": 63,
     "metadata": {},
     "output_type": "execute_result"
    }
   ],
   "source": [
    "regressor.predict([[3,10,177,11761,.16,.58,7,7,4,1]])"
   ]
  },
  {
   "cell_type": "code",
   "execution_count": 64,
   "id": "448a0bd9",
   "metadata": {},
   "outputs": [
    {
     "data": {
      "text/plain": [
       "array([[4.6906319]])"
      ]
     },
     "execution_count": 64,
     "metadata": {},
     "output_type": "execute_result"
    }
   ],
   "source": [
    "regressor.predict([[2,4,367,16052,.3,.64,11,13,1,1]])"
   ]
  },
  {
   "cell_type": "code",
   "execution_count": 65,
   "id": "4324deef",
   "metadata": {},
   "outputs": [
    {
     "data": {
      "text/plain": [
       "array([[2.23608922]])"
      ]
     },
     "execution_count": 65,
     "metadata": {},
     "output_type": "execute_result"
    }
   ],
   "source": [
    "regressor.predict([[4,2,356,15558,.23,.32,24,6,4,1]])"
   ]
  },
  {
   "cell_type": "markdown",
   "id": "2d16c9f0",
   "metadata": {},
   "source": [
    "##### Square Root of 70 30 Split Test"
   ]
  },
  {
   "cell_type": "code",
   "execution_count": 66,
   "id": "ce7d81ce",
   "metadata": {},
   "outputs": [],
   "source": [
    "X_train,X_test,y_train,y_test=train_test_split(X,y,test_size=.70,random_state=15)"
   ]
  },
  {
   "cell_type": "code",
   "execution_count": 67,
   "id": "3e16c030",
   "metadata": {},
   "outputs": [
    {
     "data": {
      "text/plain": [
       "LinearRegression()"
      ]
     },
     "execution_count": 67,
     "metadata": {},
     "output_type": "execute_result"
    }
   ],
   "source": [
    "regressor=LinearRegression()\n",
    "regressor.fit(X_train,y_train)"
   ]
  },
  {
   "cell_type": "code",
   "execution_count": 68,
   "id": "f0d4e855",
   "metadata": {},
   "outputs": [
    {
     "data": {
      "text/plain": [
       "array([[2.02584682]])"
      ]
     },
     "execution_count": 68,
     "metadata": {},
     "output_type": "execute_result"
    }
   ],
   "source": [
    "np.sqrt(regressor.predict([[4,3,184,11442,.13,.43,19,11,1,1]]))"
   ]
  },
  {
   "cell_type": "code",
   "execution_count": 69,
   "id": "1d3b4939",
   "metadata": {},
   "outputs": [
    {
     "data": {
      "text/plain": [
       "array([[2.14214904]])"
      ]
     },
     "execution_count": 69,
     "metadata": {},
     "output_type": "execute_result"
    }
   ],
   "source": [
    "np.sqrt(regressor.predict([[3,10,177,11761,.16,.58,7,7,4,1]]))"
   ]
  },
  {
   "cell_type": "code",
   "execution_count": 70,
   "id": "0e75f966",
   "metadata": {},
   "outputs": [
    {
     "data": {
      "text/plain": [
       "array([[2.16578667]])"
      ]
     },
     "execution_count": 70,
     "metadata": {},
     "output_type": "execute_result"
    }
   ],
   "source": [
    "np.sqrt(regressor.predict([[2,4,367,16052,.3,.64,11,13,1,1]]))"
   ]
  },
  {
   "cell_type": "code",
   "execution_count": 71,
   "id": "268d12e8",
   "metadata": {},
   "outputs": [
    {
     "data": {
      "text/plain": [
       "array([[1.49535588]])"
      ]
     },
     "execution_count": 71,
     "metadata": {},
     "output_type": "execute_result"
    }
   ],
   "source": [
    "np.sqrt(regressor.predict([[4,2,356,15558,.23,.32,24,6,4,1]]))"
   ]
  },
  {
   "cell_type": "markdown",
   "id": "3ea185ea",
   "metadata": {},
   "source": [
    "##### Square Root of 80 20 Split Test"
   ]
  },
  {
   "cell_type": "code",
   "execution_count": 72,
   "id": "4c2b1a57",
   "metadata": {},
   "outputs": [],
   "source": [
    "X_train,X_test,y_train,y_test=train_test_split(X,y,test_size=.8,random_state=20)"
   ]
  },
  {
   "cell_type": "code",
   "execution_count": 73,
   "id": "b2c6d56f",
   "metadata": {},
   "outputs": [
    {
     "data": {
      "text/plain": [
       "LinearRegression()"
      ]
     },
     "execution_count": 73,
     "metadata": {},
     "output_type": "execute_result"
    }
   ],
   "source": [
    "regressor=LinearRegression()\n",
    "regressor.fit(X_train,y_train)"
   ]
  },
  {
   "cell_type": "code",
   "execution_count": 74,
   "id": "9a30271a",
   "metadata": {},
   "outputs": [
    {
     "data": {
      "text/plain": [
       "array([[1.7965055]])"
      ]
     },
     "execution_count": 74,
     "metadata": {},
     "output_type": "execute_result"
    }
   ],
   "source": [
    "np.sqrt(regressor.predict([[4,3,184,11442,.13,.43,19,11,1,1]]))"
   ]
  },
  {
   "cell_type": "code",
   "execution_count": 75,
   "id": "9eaed52c",
   "metadata": {},
   "outputs": [
    {
     "data": {
      "text/plain": [
       "array([[2.14492578]])"
      ]
     },
     "execution_count": 75,
     "metadata": {},
     "output_type": "execute_result"
    }
   ],
   "source": [
    "np.sqrt(regressor.predict([[3,10,177,11761,.16,.58,7,7,4,1]]))"
   ]
  },
  {
   "cell_type": "code",
   "execution_count": 76,
   "id": "0c95d554",
   "metadata": {},
   "outputs": [
    {
     "data": {
      "text/plain": [
       "array([[2.17571711]])"
      ]
     },
     "execution_count": 76,
     "metadata": {},
     "output_type": "execute_result"
    }
   ],
   "source": [
    "np.sqrt(regressor.predict([[2,4,367,16052,.3,.64,11,13,1,1]]))"
   ]
  },
  {
   "cell_type": "code",
   "execution_count": 77,
   "id": "3da86ff2",
   "metadata": {},
   "outputs": [
    {
     "data": {
      "text/plain": [
       "array([[2.02574956]])"
      ]
     },
     "execution_count": 77,
     "metadata": {},
     "output_type": "execute_result"
    }
   ],
   "source": [
    "np.sqrt(regressor.predict([[4,2,356,15558,.23,.32,24,6,4,1]]))"
   ]
  },
  {
   "cell_type": "markdown",
   "id": "490bf1c6",
   "metadata": {},
   "source": [
    "### SVR"
   ]
  },
  {
   "cell_type": "markdown",
   "id": "e0aba1f7",
   "metadata": {},
   "source": [
    "##### 80 20"
   ]
  },
  {
   "cell_type": "code",
   "execution_count": 78,
   "id": "4da1bc2a",
   "metadata": {},
   "outputs": [],
   "source": [
    "sc_X=StandardScaler()\n",
    "sc_y=StandardScaler()\n",
    "X_train=sc_X.fit_transform(X_train)\n",
    "y_train=sc_y.fit_transform(y_train)"
   ]
  },
  {
   "cell_type": "code",
   "execution_count": 79,
   "id": "c5ba5d0c",
   "metadata": {},
   "outputs": [
    {
     "name": "stderr",
     "output_type": "stream",
     "text": [
      "C:\\Users\\Connor\\anaconda3\\lib\\site-packages\\sklearn\\utils\\validation.py:63: DataConversionWarning: A column-vector y was passed when a 1d array was expected. Please change the shape of y to (n_samples, ), for example using ravel().\n",
      "  return f(*args, **kwargs)\n"
     ]
    },
    {
     "data": {
      "text/plain": [
       "SVR()"
      ]
     },
     "execution_count": 79,
     "metadata": {},
     "output_type": "execute_result"
    }
   ],
   "source": [
    "regressor=SVR(kernel='rbf')\n",
    "regressor.fit(X_train,y_train)"
   ]
  },
  {
   "cell_type": "code",
   "execution_count": 80,
   "id": "aa15e30c",
   "metadata": {},
   "outputs": [],
   "source": [
    "X_train, X_test, y_train, y_test = train_test_split(X, y, test_size = 0.8, random_state = 20)"
   ]
  },
  {
   "cell_type": "code",
   "execution_count": 81,
   "id": "6a180ed8",
   "metadata": {},
   "outputs": [],
   "source": [
    "y_pred=sc_y.inverse_transform(regressor.predict(sc_X.transform(X_test)).reshape(-1,1))"
   ]
  },
  {
   "cell_type": "code",
   "execution_count": 82,
   "id": "97d7d4d9",
   "metadata": {},
   "outputs": [
    {
     "data": {
      "text/plain": [
       "array([[1.78282387]])"
      ]
     },
     "execution_count": 82,
     "metadata": {},
     "output_type": "execute_result"
    }
   ],
   "source": [
    "sc_y.inverse_transform(regressor.predict(sc_X.transform([[4,3,184,11442,.13,.43,19,11,1,1]])).reshape(-1,1))"
   ]
  },
  {
   "cell_type": "code",
   "execution_count": 83,
   "id": "3970d6d9",
   "metadata": {},
   "outputs": [
    {
     "data": {
      "text/plain": [
       "array([[4.05208246]])"
      ]
     },
     "execution_count": 83,
     "metadata": {},
     "output_type": "execute_result"
    }
   ],
   "source": [
    "sc_y.inverse_transform(regressor.predict(sc_X.transform([[3,10,177,11761,.16,.58,7,7,4,1]])).reshape(-1,1))"
   ]
  },
  {
   "cell_type": "code",
   "execution_count": 84,
   "id": "853adad4",
   "metadata": {},
   "outputs": [
    {
     "data": {
      "text/plain": [
       "array([[4.82453906]])"
      ]
     },
     "execution_count": 84,
     "metadata": {},
     "output_type": "execute_result"
    }
   ],
   "source": [
    "sc_y.inverse_transform(regressor.predict(sc_X.transform([[2,4,367,16052,.3,.64,11,13,1,1]])).reshape(-1,1))"
   ]
  },
  {
   "cell_type": "code",
   "execution_count": 85,
   "id": "5d0dabca",
   "metadata": {},
   "outputs": [
    {
     "data": {
      "text/plain": [
       "array([[3.87434632]])"
      ]
     },
     "execution_count": 85,
     "metadata": {},
     "output_type": "execute_result"
    }
   ],
   "source": [
    "sc_y.inverse_transform(regressor.predict(sc_X.transform([[4,2,356,15558,.23,.32,24,6,4,1]])).reshape(-1,1))"
   ]
  },
  {
   "cell_type": "markdown",
   "id": "beb772fb",
   "metadata": {},
   "source": [
    "##### 70 30"
   ]
  },
  {
   "cell_type": "code",
   "execution_count": 86,
   "id": "2e3d0aa4",
   "metadata": {},
   "outputs": [],
   "source": [
    "X_train, X_test, y_train, y_test = train_test_split(X, y, test_size = 0.70, random_state = 30)"
   ]
  },
  {
   "cell_type": "code",
   "execution_count": 87,
   "id": "626de5ba",
   "metadata": {},
   "outputs": [],
   "source": [
    "sc_X=StandardScaler()\n",
    "sc_y=StandardScaler()\n",
    "X_train=sc_X.fit_transform(X_train)\n",
    "y_train=sc_y.fit_transform(y_train)"
   ]
  },
  {
   "cell_type": "code",
   "execution_count": 88,
   "id": "f0710d64",
   "metadata": {},
   "outputs": [
    {
     "name": "stderr",
     "output_type": "stream",
     "text": [
      "C:\\Users\\Connor\\anaconda3\\lib\\site-packages\\sklearn\\utils\\validation.py:63: DataConversionWarning: A column-vector y was passed when a 1d array was expected. Please change the shape of y to (n_samples, ), for example using ravel().\n",
      "  return f(*args, **kwargs)\n"
     ]
    },
    {
     "data": {
      "text/plain": [
       "SVR()"
      ]
     },
     "execution_count": 88,
     "metadata": {},
     "output_type": "execute_result"
    }
   ],
   "source": [
    "regressor=SVR(kernel='rbf')\n",
    "regressor.fit(X_train,y_train)"
   ]
  },
  {
   "cell_type": "code",
   "execution_count": 89,
   "id": "9a709833",
   "metadata": {},
   "outputs": [
    {
     "data": {
      "text/plain": [
       "array([[1.37294327]])"
      ]
     },
     "execution_count": 89,
     "metadata": {},
     "output_type": "execute_result"
    }
   ],
   "source": [
    "sc_y.inverse_transform(regressor.predict(sc_X.transform([[4,3,184,11442,.13,.43,19,11,1,1]])).reshape(-1,1))"
   ]
  },
  {
   "cell_type": "code",
   "execution_count": 90,
   "id": "a6487941",
   "metadata": {},
   "outputs": [
    {
     "data": {
      "text/plain": [
       "array([[3.57110508]])"
      ]
     },
     "execution_count": 90,
     "metadata": {},
     "output_type": "execute_result"
    }
   ],
   "source": [
    "sc_y.inverse_transform(regressor.predict(sc_X.transform([[3,10,177,11761,.16,.58,7,7,4,1]])).reshape(-1,1))"
   ]
  },
  {
   "cell_type": "code",
   "execution_count": 91,
   "id": "785e3ac2",
   "metadata": {},
   "outputs": [
    {
     "data": {
      "text/plain": [
       "array([[4.48372524]])"
      ]
     },
     "execution_count": 91,
     "metadata": {},
     "output_type": "execute_result"
    }
   ],
   "source": [
    "sc_y.inverse_transform(regressor.predict(sc_X.transform([[2,4,367,16052,.3,.64,11,13,1,1]])).reshape(-1,1))"
   ]
  },
  {
   "cell_type": "code",
   "execution_count": 92,
   "id": "eea48ce7",
   "metadata": {},
   "outputs": [
    {
     "data": {
      "text/plain": [
       "array([[2.67333426]])"
      ]
     },
     "execution_count": 92,
     "metadata": {},
     "output_type": "execute_result"
    }
   ],
   "source": [
    "sc_y.inverse_transform(regressor.predict(sc_X.transform([[4,2,356,15558,.23,.32,24,6,4,1]])).reshape(-1,1))"
   ]
  },
  {
   "cell_type": "markdown",
   "id": "c8eeca5b",
   "metadata": {},
   "source": [
    "##### Square Root 70 30"
   ]
  },
  {
   "cell_type": "code",
   "execution_count": 93,
   "id": "3b71cfb3",
   "metadata": {},
   "outputs": [
    {
     "data": {
      "text/plain": [
       "array([[1.17172662]])"
      ]
     },
     "execution_count": 93,
     "metadata": {},
     "output_type": "execute_result"
    }
   ],
   "source": [
    "np.sqrt(sc_y.inverse_transform(regressor.predict(sc_X.transform([[4,3,184,11442,.13,.43,19,11,1,1]])).reshape(-1,1)))"
   ]
  },
  {
   "cell_type": "code",
   "execution_count": 94,
   "id": "e48426c5",
   "metadata": {},
   "outputs": [
    {
     "data": {
      "text/plain": [
       "array([[1.88973678]])"
      ]
     },
     "execution_count": 94,
     "metadata": {},
     "output_type": "execute_result"
    }
   ],
   "source": [
    "np.sqrt(sc_y.inverse_transform(regressor.predict(sc_X.transform([[3,10,177,11761,.16,.58,7,7,4,1]])).reshape(-1,1)))"
   ]
  },
  {
   "cell_type": "code",
   "execution_count": 95,
   "id": "eda84f39",
   "metadata": {},
   "outputs": [
    {
     "data": {
      "text/plain": [
       "array([[2.11748087]])"
      ]
     },
     "execution_count": 95,
     "metadata": {},
     "output_type": "execute_result"
    }
   ],
   "source": [
    "np.sqrt(sc_y.inverse_transform(regressor.predict(sc_X.transform([[2,4,367,16052,.3,.64,11,13,1,1]])).reshape(-1,1)))"
   ]
  },
  {
   "cell_type": "code",
   "execution_count": 96,
   "id": "078a7fc0",
   "metadata": {},
   "outputs": [
    {
     "data": {
      "text/plain": [
       "array([[1.63503341]])"
      ]
     },
     "execution_count": 96,
     "metadata": {},
     "output_type": "execute_result"
    }
   ],
   "source": [
    "np.sqrt(sc_y.inverse_transform(regressor.predict(sc_X.transform([[4,2,356,15558,.23,.32,24,6,4,1]])).reshape(-1,1)))"
   ]
  },
  {
   "cell_type": "markdown",
   "id": "04298a58",
   "metadata": {},
   "source": [
    "##### Square Root 80 20"
   ]
  },
  {
   "cell_type": "code",
   "execution_count": 97,
   "id": "00a3763b",
   "metadata": {},
   "outputs": [],
   "source": [
    "X_train, X_test, y_train, y_test = train_test_split(X, y, test_size = 0.8, random_state = 20)"
   ]
  },
  {
   "cell_type": "code",
   "execution_count": 98,
   "id": "9a7a85df",
   "metadata": {},
   "outputs": [],
   "source": [
    "sc_X=StandardScaler()\n",
    "sc_y=StandardScaler()\n",
    "X_train=sc_X.fit_transform(X_train)\n",
    "y_train=sc_y.fit_transform(y_train)"
   ]
  },
  {
   "cell_type": "code",
   "execution_count": 99,
   "id": "a3a0d606",
   "metadata": {},
   "outputs": [
    {
     "name": "stderr",
     "output_type": "stream",
     "text": [
      "C:\\Users\\Connor\\anaconda3\\lib\\site-packages\\sklearn\\utils\\validation.py:63: DataConversionWarning: A column-vector y was passed when a 1d array was expected. Please change the shape of y to (n_samples, ), for example using ravel().\n",
      "  return f(*args, **kwargs)\n"
     ]
    },
    {
     "data": {
      "text/plain": [
       "SVR()"
      ]
     },
     "execution_count": 99,
     "metadata": {},
     "output_type": "execute_result"
    }
   ],
   "source": [
    "regressor=SVR(kernel='rbf')\n",
    "regressor.fit(X_train,y_train)"
   ]
  },
  {
   "cell_type": "code",
   "execution_count": 100,
   "id": "ef051273",
   "metadata": {},
   "outputs": [
    {
     "data": {
      "text/plain": [
       "array([[1.33522428]])"
      ]
     },
     "execution_count": 100,
     "metadata": {},
     "output_type": "execute_result"
    }
   ],
   "source": [
    "np.sqrt(sc_y.inverse_transform(regressor.predict(sc_X.transform([[4,3,184,11442,.13,.43,19,11,1,1]])).reshape(-1,1)))"
   ]
  },
  {
   "cell_type": "code",
   "execution_count": 101,
   "id": "b870193a",
   "metadata": {},
   "outputs": [
    {
     "data": {
      "text/plain": [
       "array([[2.0129785]])"
      ]
     },
     "execution_count": 101,
     "metadata": {},
     "output_type": "execute_result"
    }
   ],
   "source": [
    "np.sqrt(sc_y.inverse_transform(regressor.predict(sc_X.transform([[3,10,177,11761,.16,.58,7,7,4,1]])).reshape(-1,1)))"
   ]
  },
  {
   "cell_type": "code",
   "execution_count": 102,
   "id": "1cf599e3",
   "metadata": {},
   "outputs": [
    {
     "data": {
      "text/plain": [
       "array([[2.19648334]])"
      ]
     },
     "execution_count": 102,
     "metadata": {},
     "output_type": "execute_result"
    }
   ],
   "source": [
    "np.sqrt(sc_y.inverse_transform(regressor.predict(sc_X.transform([[2,4,367,16052,.3,.64,11,13,1,1]])).reshape(-1,1)))"
   ]
  },
  {
   "cell_type": "code",
   "execution_count": 103,
   "id": "eff98403",
   "metadata": {},
   "outputs": [
    {
     "data": {
      "text/plain": [
       "array([[1.96833593]])"
      ]
     },
     "execution_count": 103,
     "metadata": {},
     "output_type": "execute_result"
    }
   ],
   "source": [
    "np.sqrt(sc_y.inverse_transform(regressor.predict(sc_X.transform([[4,2,356,15558,.23,.32,24,6,4,1]])).reshape(-1,1)))"
   ]
  },
  {
   "cell_type": "markdown",
   "id": "114d89a2",
   "metadata": {},
   "source": [
    "### DTR"
   ]
  },
  {
   "cell_type": "markdown",
   "id": "16f6d338",
   "metadata": {},
   "source": [
    "###### 80 20"
   ]
  },
  {
   "cell_type": "code",
   "execution_count": 104,
   "id": "2318f9bb",
   "metadata": {},
   "outputs": [],
   "source": [
    "y_pred=regressor.predict(X_test)"
   ]
  },
  {
   "cell_type": "code",
   "execution_count": 105,
   "id": "4082a82c",
   "metadata": {},
   "outputs": [],
   "source": [
    "X_train, X_test, y_train, y_test = train_test_split(X, y, test_size = 0.8, random_state = 20)"
   ]
  },
  {
   "cell_type": "code",
   "execution_count": 106,
   "id": "c69b5411",
   "metadata": {},
   "outputs": [
    {
     "data": {
      "text/plain": [
       "DecisionTreeRegressor(random_state=0)"
      ]
     },
     "execution_count": 106,
     "metadata": {},
     "output_type": "execute_result"
    }
   ],
   "source": [
    "regressor=DecisionTreeRegressor(random_state=0)\n",
    "regressor.fit(X_train,y_train)"
   ]
  },
  {
   "cell_type": "code",
   "execution_count": 107,
   "id": "b6d9a27f",
   "metadata": {},
   "outputs": [
    {
     "data": {
      "text/plain": [
       "array([2.])"
      ]
     },
     "execution_count": 107,
     "metadata": {},
     "output_type": "execute_result"
    }
   ],
   "source": [
    "regressor.predict([[4,3,184,11442,.13,.43,19,11,1,1]])"
   ]
  },
  {
   "cell_type": "code",
   "execution_count": 108,
   "id": "2ba02c91",
   "metadata": {},
   "outputs": [
    {
     "data": {
      "text/plain": [
       "array([4.])"
      ]
     },
     "execution_count": 108,
     "metadata": {},
     "output_type": "execute_result"
    }
   ],
   "source": [
    "regressor.predict([[3,10,177,11761,.16,.58,7,7,4,1]])"
   ]
  },
  {
   "cell_type": "code",
   "execution_count": 109,
   "id": "789bbb17",
   "metadata": {},
   "outputs": [
    {
     "data": {
      "text/plain": [
       "array([9.])"
      ]
     },
     "execution_count": 109,
     "metadata": {},
     "output_type": "execute_result"
    }
   ],
   "source": [
    "regressor.predict([[2,4,367,16052,.3,.64,11,13,1,1]])"
   ]
  },
  {
   "cell_type": "code",
   "execution_count": 110,
   "id": "8d4345cd",
   "metadata": {},
   "outputs": [
    {
     "data": {
      "text/plain": [
       "array([4.])"
      ]
     },
     "execution_count": 110,
     "metadata": {},
     "output_type": "execute_result"
    }
   ],
   "source": [
    "regressor.predict([[4,2,356,15558,.23,.32,24,6,4,1]])"
   ]
  },
  {
   "cell_type": "markdown",
   "id": "39d83486",
   "metadata": {},
   "source": [
    "##### 70 30"
   ]
  },
  {
   "cell_type": "code",
   "execution_count": 111,
   "id": "8d3157e9",
   "metadata": {},
   "outputs": [],
   "source": [
    "X_train, X_test, y_train, y_test = train_test_split(X, y, test_size = 0.70, random_state = 30)"
   ]
  },
  {
   "cell_type": "code",
   "execution_count": 112,
   "id": "77f5a269",
   "metadata": {},
   "outputs": [
    {
     "data": {
      "text/plain": [
       "DecisionTreeRegressor(random_state=0)"
      ]
     },
     "execution_count": 112,
     "metadata": {},
     "output_type": "execute_result"
    }
   ],
   "source": [
    "regressor=DecisionTreeRegressor(random_state=0)\n",
    "regressor.fit(X_train,y_train)"
   ]
  },
  {
   "cell_type": "code",
   "execution_count": 113,
   "id": "3e63a7b8",
   "metadata": {},
   "outputs": [
    {
     "data": {
      "text/plain": [
       "array([4.])"
      ]
     },
     "execution_count": 113,
     "metadata": {},
     "output_type": "execute_result"
    }
   ],
   "source": [
    "regressor.predict([[4,3,184,11442,.13,.43,19,11,1,1]])"
   ]
  },
  {
   "cell_type": "code",
   "execution_count": 114,
   "id": "d48c33a9",
   "metadata": {},
   "outputs": [
    {
     "data": {
      "text/plain": [
       "array([8.])"
      ]
     },
     "execution_count": 114,
     "metadata": {},
     "output_type": "execute_result"
    }
   ],
   "source": [
    "regressor.predict([[3,10,177,11761,.16,.58,7,7,4,1]])"
   ]
  },
  {
   "cell_type": "code",
   "execution_count": 115,
   "id": "c7858427",
   "metadata": {},
   "outputs": [
    {
     "data": {
      "text/plain": [
       "array([13.])"
      ]
     },
     "execution_count": 115,
     "metadata": {},
     "output_type": "execute_result"
    }
   ],
   "source": [
    "regressor.predict([[2,4,367,16052,.3,.64,11,13,1,1]])"
   ]
  },
  {
   "cell_type": "code",
   "execution_count": 116,
   "id": "b81ee5b4",
   "metadata": {},
   "outputs": [
    {
     "data": {
      "text/plain": [
       "array([2.])"
      ]
     },
     "execution_count": 116,
     "metadata": {},
     "output_type": "execute_result"
    }
   ],
   "source": [
    "regressor.predict([[4,2,356,15558,.23,.32,24,6,4,1]])"
   ]
  },
  {
   "cell_type": "markdown",
   "id": "2d237f38",
   "metadata": {},
   "source": [
    "###### Sqrt 70 30"
   ]
  },
  {
   "cell_type": "code",
   "execution_count": 117,
   "id": "89047e50",
   "metadata": {},
   "outputs": [
    {
     "data": {
      "text/plain": [
       "array([2.])"
      ]
     },
     "execution_count": 117,
     "metadata": {},
     "output_type": "execute_result"
    }
   ],
   "source": [
    "np.sqrt(regressor.predict([[4,3,184,11442,.13,.43,19,11,1,1]]))"
   ]
  },
  {
   "cell_type": "code",
   "execution_count": 118,
   "id": "743c8ad1",
   "metadata": {},
   "outputs": [
    {
     "data": {
      "text/plain": [
       "array([2.82842712])"
      ]
     },
     "execution_count": 118,
     "metadata": {},
     "output_type": "execute_result"
    }
   ],
   "source": [
    "np.sqrt(regressor.predict([[3,10,177,11761,.16,.58,7,7,4,1]]))"
   ]
  },
  {
   "cell_type": "code",
   "execution_count": 119,
   "id": "94db3704",
   "metadata": {},
   "outputs": [
    {
     "data": {
      "text/plain": [
       "array([3.60555128])"
      ]
     },
     "execution_count": 119,
     "metadata": {},
     "output_type": "execute_result"
    }
   ],
   "source": [
    "np.sqrt(regressor.predict([[2,4,367,16052,.3,.64,11,13,1,1]]))"
   ]
  },
  {
   "cell_type": "code",
   "execution_count": 120,
   "id": "8864408d",
   "metadata": {},
   "outputs": [
    {
     "data": {
      "text/plain": [
       "array([1.41421356])"
      ]
     },
     "execution_count": 120,
     "metadata": {},
     "output_type": "execute_result"
    }
   ],
   "source": [
    "np.sqrt(regressor.predict([[4,2,356,15558,.23,.32,24,6,4,1]]))"
   ]
  },
  {
   "cell_type": "markdown",
   "id": "aff0f1df",
   "metadata": {},
   "source": [
    "###### Sqrt 80 20"
   ]
  },
  {
   "cell_type": "code",
   "execution_count": 121,
   "id": "9fdeaefa",
   "metadata": {},
   "outputs": [],
   "source": [
    "X_train, X_test, y_train, y_test = train_test_split(X, y, test_size = 0.8, random_state = 20)"
   ]
  },
  {
   "cell_type": "code",
   "execution_count": 122,
   "id": "1661803d",
   "metadata": {},
   "outputs": [
    {
     "data": {
      "text/plain": [
       "DecisionTreeRegressor(random_state=0)"
      ]
     },
     "execution_count": 122,
     "metadata": {},
     "output_type": "execute_result"
    }
   ],
   "source": [
    "regressor=DecisionTreeRegressor(random_state=0)\n",
    "regressor.fit(X_train,y_train)"
   ]
  },
  {
   "cell_type": "code",
   "execution_count": 123,
   "id": "3b8482d6",
   "metadata": {},
   "outputs": [
    {
     "data": {
      "text/plain": [
       "array([1.41421356])"
      ]
     },
     "execution_count": 123,
     "metadata": {},
     "output_type": "execute_result"
    }
   ],
   "source": [
    "np.sqrt(regressor.predict([[4,3,184,11442,.13,.43,19,11,1,1]]))"
   ]
  },
  {
   "cell_type": "code",
   "execution_count": 124,
   "id": "0010ab6e",
   "metadata": {},
   "outputs": [
    {
     "data": {
      "text/plain": [
       "array([2.])"
      ]
     },
     "execution_count": 124,
     "metadata": {},
     "output_type": "execute_result"
    }
   ],
   "source": [
    "np.sqrt(regressor.predict([[3,10,177,11761,.16,.58,7,7,4,1]]))"
   ]
  },
  {
   "cell_type": "code",
   "execution_count": 125,
   "id": "1c7dc885",
   "metadata": {},
   "outputs": [
    {
     "data": {
      "text/plain": [
       "array([3.])"
      ]
     },
     "execution_count": 125,
     "metadata": {},
     "output_type": "execute_result"
    }
   ],
   "source": [
    "np.sqrt(regressor.predict([[2,4,367,16052,.3,.64,11,13,1,1]]))"
   ]
  },
  {
   "cell_type": "code",
   "execution_count": 126,
   "id": "97088218",
   "metadata": {},
   "outputs": [
    {
     "data": {
      "text/plain": [
       "array([2.])"
      ]
     },
     "execution_count": 126,
     "metadata": {},
     "output_type": "execute_result"
    }
   ],
   "source": [
    "np.sqrt(regressor.predict([[4,2,356,15558,.23,.32,24,6,4,1]]))"
   ]
  },
  {
   "cell_type": "markdown",
   "id": "33563ade",
   "metadata": {},
   "source": [
    "### RFT"
   ]
  },
  {
   "cell_type": "markdown",
   "id": "e3719b52",
   "metadata": {},
   "source": [
    "##### 80 20"
   ]
  },
  {
   "cell_type": "code",
   "execution_count": 127,
   "id": "53e5f39b",
   "metadata": {},
   "outputs": [],
   "source": [
    "X_train, X_test, y_train, y_test = train_test_split(X, y, test_size = 0.8, random_state = 20)"
   ]
  },
  {
   "cell_type": "code",
   "execution_count": 128,
   "id": "eef99725",
   "metadata": {},
   "outputs": [
    {
     "name": "stderr",
     "output_type": "stream",
     "text": [
      "<ipython-input-128-93d3aab45076>:2: DataConversionWarning: A column-vector y was passed when a 1d array was expected. Please change the shape of y to (n_samples,), for example using ravel().\n",
      "  regressor.fit(X,y)\n"
     ]
    },
    {
     "data": {
      "text/plain": [
       "RandomForestRegressor(n_estimators=20, random_state=0)"
      ]
     },
     "execution_count": 128,
     "metadata": {},
     "output_type": "execute_result"
    }
   ],
   "source": [
    "regressor=RandomForestRegressor(n_estimators=20,random_state=0)\n",
    "regressor.fit(X,y)"
   ]
  },
  {
   "cell_type": "code",
   "execution_count": 129,
   "id": "e935a740",
   "metadata": {},
   "outputs": [],
   "source": [
    "y_pred=regressor.predict(X_test)"
   ]
  },
  {
   "cell_type": "code",
   "execution_count": 130,
   "id": "7d3bfc7f",
   "metadata": {},
   "outputs": [
    {
     "data": {
      "text/plain": [
       "array([1.65])"
      ]
     },
     "execution_count": 130,
     "metadata": {},
     "output_type": "execute_result"
    }
   ],
   "source": [
    "regressor.predict([[4,3,184,11442,.13,.43,19,11,1,1]])"
   ]
  },
  {
   "cell_type": "code",
   "execution_count": 131,
   "id": "9bbaf30e",
   "metadata": {},
   "outputs": [
    {
     "data": {
      "text/plain": [
       "array([3.55])"
      ]
     },
     "execution_count": 131,
     "metadata": {},
     "output_type": "execute_result"
    }
   ],
   "source": [
    "regressor.predict([[3,10,177,11761,.16,.58,7,7,4,1]])"
   ]
  },
  {
   "cell_type": "code",
   "execution_count": 132,
   "id": "70d25160",
   "metadata": {},
   "outputs": [
    {
     "data": {
      "text/plain": [
       "array([5.65])"
      ]
     },
     "execution_count": 132,
     "metadata": {},
     "output_type": "execute_result"
    }
   ],
   "source": [
    "regressor.predict([[2,4,367,16052,.3,.64,11,13,1,1]])"
   ]
  },
  {
   "cell_type": "code",
   "execution_count": 133,
   "id": "f1398263",
   "metadata": {},
   "outputs": [
    {
     "data": {
      "text/plain": [
       "array([4.5])"
      ]
     },
     "execution_count": 133,
     "metadata": {},
     "output_type": "execute_result"
    }
   ],
   "source": [
    "regressor.predict([[4,2,356,15558,.23,.32,24,6,4,1]])"
   ]
  },
  {
   "cell_type": "markdown",
   "id": "513f82ae",
   "metadata": {},
   "source": [
    "##### 70 30"
   ]
  },
  {
   "cell_type": "code",
   "execution_count": 134,
   "id": "81f1b5df",
   "metadata": {},
   "outputs": [],
   "source": [
    "X_train, X_test, y_train, y_test = train_test_split(X, y, test_size = 0.7, random_state = 30)"
   ]
  },
  {
   "cell_type": "code",
   "execution_count": 135,
   "id": "c0247bde",
   "metadata": {},
   "outputs": [
    {
     "name": "stderr",
     "output_type": "stream",
     "text": [
      "<ipython-input-135-93d3aab45076>:2: DataConversionWarning: A column-vector y was passed when a 1d array was expected. Please change the shape of y to (n_samples,), for example using ravel().\n",
      "  regressor.fit(X,y)\n"
     ]
    },
    {
     "data": {
      "text/plain": [
       "RandomForestRegressor(n_estimators=20, random_state=0)"
      ]
     },
     "execution_count": 135,
     "metadata": {},
     "output_type": "execute_result"
    }
   ],
   "source": [
    "regressor=RandomForestRegressor(n_estimators=20,random_state=0)\n",
    "regressor.fit(X,y)"
   ]
  },
  {
   "cell_type": "code",
   "execution_count": 136,
   "id": "fbcd8ba2",
   "metadata": {},
   "outputs": [],
   "source": [
    "y_pred=regressor.predict(X_test)"
   ]
  },
  {
   "cell_type": "code",
   "execution_count": 137,
   "id": "1c96c6ae",
   "metadata": {},
   "outputs": [
    {
     "data": {
      "text/plain": [
       "array([1.65])"
      ]
     },
     "execution_count": 137,
     "metadata": {},
     "output_type": "execute_result"
    }
   ],
   "source": [
    "regressor.predict([[4,3,184,11442,.13,.43,19,11,1,1]])"
   ]
  },
  {
   "cell_type": "code",
   "execution_count": 138,
   "id": "753f88da",
   "metadata": {},
   "outputs": [
    {
     "data": {
      "text/plain": [
       "array([3.55])"
      ]
     },
     "execution_count": 138,
     "metadata": {},
     "output_type": "execute_result"
    }
   ],
   "source": [
    "regressor.predict([[3,10,177,11761,.16,.58,7,7,4,1]])"
   ]
  },
  {
   "cell_type": "code",
   "execution_count": 139,
   "id": "01efa626",
   "metadata": {},
   "outputs": [
    {
     "data": {
      "text/plain": [
       "array([5.65])"
      ]
     },
     "execution_count": 139,
     "metadata": {},
     "output_type": "execute_result"
    }
   ],
   "source": [
    "regressor.predict([[2,4,367,16052,.3,.64,11,13,1,1]])"
   ]
  },
  {
   "cell_type": "code",
   "execution_count": 140,
   "id": "aaea0469",
   "metadata": {},
   "outputs": [
    {
     "data": {
      "text/plain": [
       "array([4.5])"
      ]
     },
     "execution_count": 140,
     "metadata": {},
     "output_type": "execute_result"
    }
   ],
   "source": [
    "regressor.predict([[4,2,356,15558,.23,.32,24,6,4,1]])"
   ]
  },
  {
   "cell_type": "markdown",
   "id": "3d13e3a5",
   "metadata": {},
   "source": [
    "##### Sqrt 70 30"
   ]
  },
  {
   "cell_type": "code",
   "execution_count": 141,
   "id": "8f257f73",
   "metadata": {},
   "outputs": [
    {
     "data": {
      "text/plain": [
       "array([1.28452326])"
      ]
     },
     "execution_count": 141,
     "metadata": {},
     "output_type": "execute_result"
    }
   ],
   "source": [
    "np.sqrt(regressor.predict([[4,3,184,11442,.13,.43,19,11,1,1]]))"
   ]
  },
  {
   "cell_type": "code",
   "execution_count": 142,
   "id": "b248e9e5",
   "metadata": {},
   "outputs": [
    {
     "data": {
      "text/plain": [
       "array([1.88414437])"
      ]
     },
     "execution_count": 142,
     "metadata": {},
     "output_type": "execute_result"
    }
   ],
   "source": [
    "np.sqrt(regressor.predict([[3,10,177,11761,.16,.58,7,7,4,1]]))"
   ]
  },
  {
   "cell_type": "code",
   "execution_count": 143,
   "id": "450e6eca",
   "metadata": {},
   "outputs": [
    {
     "data": {
      "text/plain": [
       "array([2.37697286])"
      ]
     },
     "execution_count": 143,
     "metadata": {},
     "output_type": "execute_result"
    }
   ],
   "source": [
    "np.sqrt(regressor.predict([[2,4,367,16052,.3,.64,11,13,1,1]]))"
   ]
  },
  {
   "cell_type": "code",
   "execution_count": 144,
   "id": "759a81d0",
   "metadata": {},
   "outputs": [
    {
     "data": {
      "text/plain": [
       "array([2.12132034])"
      ]
     },
     "execution_count": 144,
     "metadata": {},
     "output_type": "execute_result"
    }
   ],
   "source": [
    "np.sqrt(regressor.predict([[4,2,356,15558,.23,.32,24,6,4,1]]))"
   ]
  },
  {
   "cell_type": "markdown",
   "id": "131ac4cb",
   "metadata": {},
   "source": [
    "##### Sqrt 80 20"
   ]
  },
  {
   "cell_type": "code",
   "execution_count": 145,
   "id": "8ee7f098",
   "metadata": {},
   "outputs": [],
   "source": [
    "X_train, X_test, y_train, y_test = train_test_split(X, y, test_size = 0.8, random_state = 20)"
   ]
  },
  {
   "cell_type": "code",
   "execution_count": 146,
   "id": "c40e5a4d",
   "metadata": {},
   "outputs": [
    {
     "name": "stderr",
     "output_type": "stream",
     "text": [
      "<ipython-input-146-93d3aab45076>:2: DataConversionWarning: A column-vector y was passed when a 1d array was expected. Please change the shape of y to (n_samples,), for example using ravel().\n",
      "  regressor.fit(X,y)\n"
     ]
    },
    {
     "data": {
      "text/plain": [
       "RandomForestRegressor(n_estimators=20, random_state=0)"
      ]
     },
     "execution_count": 146,
     "metadata": {},
     "output_type": "execute_result"
    }
   ],
   "source": [
    "regressor=RandomForestRegressor(n_estimators=20,random_state=0)\n",
    "regressor.fit(X,y)"
   ]
  },
  {
   "cell_type": "code",
   "execution_count": 147,
   "id": "61757c09",
   "metadata": {},
   "outputs": [],
   "source": [
    "y_pred=regressor.predict(X_test)"
   ]
  },
  {
   "cell_type": "code",
   "execution_count": 148,
   "id": "b9b9972f",
   "metadata": {},
   "outputs": [
    {
     "data": {
      "text/plain": [
       "array([1.28452326])"
      ]
     },
     "execution_count": 148,
     "metadata": {},
     "output_type": "execute_result"
    }
   ],
   "source": [
    "np.sqrt(regressor.predict([[4,3,184,11442,.13,.43,19,11,1,1]]))"
   ]
  },
  {
   "cell_type": "code",
   "execution_count": 149,
   "id": "eb8b2a9a",
   "metadata": {},
   "outputs": [
    {
     "data": {
      "text/plain": [
       "array([1.88414437])"
      ]
     },
     "execution_count": 149,
     "metadata": {},
     "output_type": "execute_result"
    }
   ],
   "source": [
    "np.sqrt(regressor.predict([[3,10,177,11761,.16,.58,7,7,4,1]]))"
   ]
  },
  {
   "cell_type": "code",
   "execution_count": 150,
   "id": "5f0dc709",
   "metadata": {},
   "outputs": [
    {
     "data": {
      "text/plain": [
       "array([2.37697286])"
      ]
     },
     "execution_count": 150,
     "metadata": {},
     "output_type": "execute_result"
    }
   ],
   "source": [
    "np.sqrt(regressor.predict([[2,4,367,16052,.3,.64,11,13,1,1]]))"
   ]
  },
  {
   "cell_type": "code",
   "execution_count": 151,
   "id": "d9530bf1",
   "metadata": {},
   "outputs": [
    {
     "data": {
      "text/plain": [
       "array([2.12132034])"
      ]
     },
     "execution_count": 151,
     "metadata": {},
     "output_type": "execute_result"
    }
   ],
   "source": [
    "np.sqrt(regressor.predict([[4,2,356,15558,.23,.32,24,6,4,1]]))"
   ]
  },
  {
   "cell_type": "markdown",
   "id": "197252b6",
   "metadata": {},
   "source": [
    "# Logistic Regression"
   ]
  },
  {
   "cell_type": "code",
   "execution_count": 186,
   "id": "78b78aad",
   "metadata": {},
   "outputs": [],
   "source": [
    "X=ds[['Deaths','Assists','Creep Score','Gold Earned','Champion Damage Share',\n",
    "      'Kill Participation','Wards Placed','Wards Destroyed',\n",
    "      'Dragons For','Barons For',]]"
   ]
  },
  {
   "cell_type": "code",
   "execution_count": 187,
   "id": "369fb9ec",
   "metadata": {},
   "outputs": [],
   "source": [
    "y=ds['Result']"
   ]
  },
  {
   "cell_type": "code",
   "execution_count": 220,
   "id": "08acb6a0",
   "metadata": {},
   "outputs": [],
   "source": [
    "from sklearn.model_selection import train_test_split\n",
    "X_train, X_test, y_train, y_test = train_test_split(X, y, test_size=.8, random_state=20)"
   ]
  },
  {
   "cell_type": "code",
   "execution_count": 221,
   "id": "ce378e1d",
   "metadata": {},
   "outputs": [
    {
     "name": "stdout",
     "output_type": "stream",
     "text": [
      "     Deaths  Assists  Creep Score  Gold Earned  Champion Damage Share  \\\n",
      "184       1       10          285        15333                   0.23   \n",
      "157       1        8          295        14645                   0.28   \n",
      "205       3        5          290        12201                   0.20   \n",
      "183       5        4          176        10388                   0.22   \n",
      "79        1       13           43        10030                   0.05   \n",
      "182       3       12          168        10498                   0.16   \n",
      "200       4       10          231        13708                   0.24   \n",
      "43        3        3          177         9721                   0.11   \n",
      "145       1        0          266        11214                   0.18   \n",
      "3         4       10          194        11234                   0.23   \n",
      "18        4        2           27         5451                   0.08   \n",
      "209       6        9           23         7594                   0.10   \n",
      "196       0        6          208         9692                   0.30   \n",
      "10        4        2          191         8931                   0.23   \n",
      "32        2        3          178        10182                   0.11   \n",
      "110       4        6          283        13410                   0.21   \n",
      "185       5        3          247        10348                   0.22   \n",
      "83        6        1          133         7841                   0.08   \n",
      "61        0        9          257        14204                   0.28   \n",
      "131       4        4          265        12869                   0.20   \n",
      "25        4        3          287        12444                   0.16   \n",
      "186       4       10          245        12893                   0.18   \n",
      "141       2        5          264        14251                   0.33   \n",
      "203       4        3          225        13610                   0.29   \n",
      "6         5        3          202         9539                   0.32   \n",
      "7         2        5          273        15085                   0.27   \n",
      "101       1        5          194        10411                   0.13   \n",
      "105       0        5          226        10342                   0.25   \n",
      "144       1        3          253        10111                   0.14   \n",
      "190       0        1          216        13719                   0.24   \n",
      "16        0        1          303        11579                   0.24   \n",
      "26        2        5          349        15344                   0.24   \n",
      "40        2        0          287        14052                   0.21   \n",
      "118       7       11           30         7551                   0.08   \n",
      "162       6       10          148         8350                   0.16   \n",
      "71        0        8          395        19128                   0.28   \n",
      "22        2        9          204        12685                   0.23   \n",
      "75        1       10          359        15853                   0.24   \n",
      "148       3        3           14         6486                   0.08   \n",
      "137       1        7          342        14369                   0.24   \n",
      "156       4        3          220         9588                   0.13   \n",
      "15        0        2          253        13774                   0.41   \n",
      "99        4        2           37         4985                   0.07   \n",
      "\n",
      "     Kill Participation  Wards Placed  Wards Destroyed  Dragons For  \\\n",
      "184                0.72            15                7            2   \n",
      "157                0.67            18                6            4   \n",
      "205                0.42            16                7            4   \n",
      "183                0.89            11                9            2   \n",
      "79                 0.83            92               20            4   \n",
      "182                0.56             3                4            2   \n",
      "200                0.65             9                8            2   \n",
      "43                 0.63            10               19            1   \n",
      "145                0.13            14                4            1   \n",
      "3                  0.65            12                8            4   \n",
      "18                 0.50            45                6            0   \n",
      "209                0.83            58                7            4   \n",
      "196                0.38             9               12            2   \n",
      "10                 0.75            10                4            0   \n",
      "32                 0.43            21               12            1   \n",
      "110                0.56            18                9            1   \n",
      "185                0.44            14                7            2   \n",
      "83                 0.22             7                9            2   \n",
      "61                 0.73            17                6            2   \n",
      "131                0.38            19                7            4   \n",
      "25                 0.56            18                7            3   \n",
      "186                0.72            12               13            2   \n",
      "141                0.60            12                4            1   \n",
      "203                0.83             9               14            4   \n",
      "6                  0.44             7                2            0   \n",
      "7                  0.61            15                5            4   \n",
      "101                0.53            12               10            4   \n",
      "105                0.35            15                2            4   \n",
      "144                0.80            16                9            2   \n",
      "190                0.43             6                3            2   \n",
      "16                 0.50             8                3            0   \n",
      "26                 0.59            16               18            2   \n",
      "40                 0.42            12               11            3   \n",
      "118                0.69            62                7            1   \n",
      "162                1.00             5                5            1   \n",
      "71                 0.78            18               12            4   \n",
      "22                 0.82            13               10            2   \n",
      "75                 0.67            10                1            4   \n",
      "148                0.80            37               12            2   \n",
      "137                0.48            11                8            4   \n",
      "156                0.57            12               10            0   \n",
      "15                 0.77            10                4            4   \n",
      "99                 0.29            31                4            1   \n",
      "\n",
      "     Barons For  \n",
      "184           0  \n",
      "157           1  \n",
      "205           0  \n",
      "183           1  \n",
      "79            2  \n",
      "182           0  \n",
      "200           2  \n",
      "43            0  \n",
      "145           1  \n",
      "3             1  \n",
      "18            0  \n",
      "209           0  \n",
      "196           0  \n",
      "10            0  \n",
      "32            0  \n",
      "110           0  \n",
      "185           1  \n",
      "83            0  \n",
      "61            1  \n",
      "131           1  \n",
      "25            0  \n",
      "186           0  \n",
      "141           1  \n",
      "203           0  \n",
      "6             0  \n",
      "7             1  \n",
      "101           1  \n",
      "105           1  \n",
      "144           0  \n",
      "190           0  \n",
      "16            0  \n",
      "26            1  \n",
      "40            1  \n",
      "118           0  \n",
      "162           0  \n",
      "71            2  \n",
      "22            1  \n",
      "75            2  \n",
      "148           0  \n",
      "137           1  \n",
      "156           0  \n",
      "15            1  \n",
      "99            0  \n"
     ]
    }
   ],
   "source": [
    "print(X_train)"
   ]
  },
  {
   "cell_type": "code",
   "execution_count": 222,
   "id": "e5777410",
   "metadata": {},
   "outputs": [
    {
     "name": "stdout",
     "output_type": "stream",
     "text": [
      "184    W\n",
      "157    W\n",
      "205    L\n",
      "183    L\n",
      "79     W\n",
      "182    W\n",
      "200    W\n",
      "43     L\n",
      "145    W\n",
      "3      W\n",
      "18     L\n",
      "209    L\n",
      "196    W\n",
      "10     L\n",
      "32     L\n",
      "110    L\n",
      "185    L\n",
      "83     L\n",
      "61     W\n",
      "131    W\n",
      "25     L\n",
      "186    W\n",
      "141    W\n",
      "203    L\n",
      "6      L\n",
      "7      W\n",
      "101    W\n",
      "105    W\n",
      "144    L\n",
      "190    W\n",
      "16     L\n",
      "26     W\n",
      "40     W\n",
      "118    L\n",
      "162    L\n",
      "71     W\n",
      "22     W\n",
      "75     W\n",
      "148    L\n",
      "137    W\n",
      "156    L\n",
      "15     W\n",
      "99     L\n",
      "Name: Result, dtype: object\n"
     ]
    }
   ],
   "source": [
    "print(y_train)"
   ]
  },
  {
   "cell_type": "code",
   "execution_count": 223,
   "id": "88c42466",
   "metadata": {},
   "outputs": [],
   "source": [
    "from sklearn.preprocessing import StandardScaler\n",
    "sc=StandardScaler()\n",
    "X_train=sc.fit_transform(X_train)\n",
    "X_test=sc.transform(X_test)"
   ]
  },
  {
   "cell_type": "code",
   "execution_count": 224,
   "id": "94025f24",
   "metadata": {},
   "outputs": [
    {
     "data": {
      "text/plain": [
       "LogisticRegression(random_state=0)"
      ]
     },
     "execution_count": 224,
     "metadata": {},
     "output_type": "execute_result"
    }
   ],
   "source": [
    "from sklearn.linear_model import LogisticRegression\n",
    "classifier=LogisticRegression(random_state=0)\n",
    "classifier.fit(X_train,y_train)"
   ]
  },
  {
   "cell_type": "code",
   "execution_count": null,
   "id": "202d8c1b",
   "metadata": {},
   "outputs": [],
   "source": [
    "#'Deaths','Assists','Creep Score','Gold Earned','Champion Damage Share','Kill Participation','Wards Placed','Wards Destroyed',\n",
    "#'Dragons For','Barons For'"
   ]
  },
  {
   "cell_type": "code",
   "execution_count": 225,
   "id": "478f32b1",
   "metadata": {},
   "outputs": [
    {
     "name": "stdout",
     "output_type": "stream",
     "text": [
      "['L']\n"
     ]
    }
   ],
   "source": [
    "print(classifier.predict(sc.transform([[4,3,184,11442,.13,.43,19,11,1,1]])))"
   ]
  },
  {
   "cell_type": "code",
   "execution_count": 226,
   "id": "08dd4153",
   "metadata": {},
   "outputs": [
    {
     "name": "stdout",
     "output_type": "stream",
     "text": [
      "['W']\n"
     ]
    }
   ],
   "source": [
    "print(classifier.predict(sc.transform([[3,10,177,11761,.16,.58,7,7,4,1]])))"
   ]
  },
  {
   "cell_type": "code",
   "execution_count": 227,
   "id": "cf07fa9c",
   "metadata": {},
   "outputs": [
    {
     "name": "stdout",
     "output_type": "stream",
     "text": [
      "['W']\n"
     ]
    }
   ],
   "source": [
    "print(classifier.predict(sc.transform([[2,4,367,16052,.3,.64,11,13,1,1]])))"
   ]
  },
  {
   "cell_type": "code",
   "execution_count": 228,
   "id": "4e506803",
   "metadata": {},
   "outputs": [
    {
     "name": "stdout",
     "output_type": "stream",
     "text": [
      "['W']\n"
     ]
    }
   ],
   "source": [
    "print(classifier.predict(sc.transform([[4,2,356,15558,.23,.32,24,6,4,1]])))"
   ]
  },
  {
   "cell_type": "markdown",
   "id": "0f5f3c2a",
   "metadata": {},
   "source": [
    "# Logistic Regression 70/30 Test"
   ]
  },
  {
   "cell_type": "code",
   "execution_count": 229,
   "id": "e13978f1",
   "metadata": {},
   "outputs": [],
   "source": [
    "X_train, X_test, y_train, y_test = train_test_split(X, y, test_size=.7, random_state=30)"
   ]
  },
  {
   "cell_type": "code",
   "execution_count": 230,
   "id": "d6d953ad",
   "metadata": {},
   "outputs": [
    {
     "name": "stdout",
     "output_type": "stream",
     "text": [
      "['L']\n"
     ]
    }
   ],
   "source": [
    "print(classifier.predict(sc.transform([[4,3,184,11442,.13,.43,19,11,1,1]])))"
   ]
  },
  {
   "cell_type": "code",
   "execution_count": 231,
   "id": "1e963f9a",
   "metadata": {},
   "outputs": [
    {
     "name": "stdout",
     "output_type": "stream",
     "text": [
      "['W']\n"
     ]
    }
   ],
   "source": [
    "print(classifier.predict(sc.transform([[3,10,177,11761,.16,.58,7,7,4,1]])))"
   ]
  },
  {
   "cell_type": "code",
   "execution_count": 232,
   "id": "7268af03",
   "metadata": {},
   "outputs": [
    {
     "name": "stdout",
     "output_type": "stream",
     "text": [
      "['W']\n"
     ]
    }
   ],
   "source": [
    "print(classifier.predict(sc.transform([[2,4,367,16052,.3,.64,11,13,1,1]])))"
   ]
  },
  {
   "cell_type": "code",
   "execution_count": 233,
   "id": "ba6b1438",
   "metadata": {},
   "outputs": [
    {
     "name": "stdout",
     "output_type": "stream",
     "text": [
      "['W']\n"
     ]
    }
   ],
   "source": [
    "print(classifier.predict(sc.transform([[4,2,356,15558,.23,.32,24,6,4,1]])))"
   ]
  },
  {
   "cell_type": "code",
   "execution_count": null,
   "id": "ee358acf",
   "metadata": {},
   "outputs": [],
   "source": []
  }
 ],
 "metadata": {
  "kernelspec": {
   "display_name": "Python 3",
   "language": "python",
   "name": "python3"
  },
  "language_info": {
   "codemirror_mode": {
    "name": "ipython",
    "version": 3
   },
   "file_extension": ".py",
   "mimetype": "text/x-python",
   "name": "python",
   "nbconvert_exporter": "python",
   "pygments_lexer": "ipython3",
   "version": "3.8.8"
  }
 },
 "nbformat": 4,
 "nbformat_minor": 5
}
